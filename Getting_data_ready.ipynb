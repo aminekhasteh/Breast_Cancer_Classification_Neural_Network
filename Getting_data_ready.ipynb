{
  "nbformat": 4,
  "nbformat_minor": 0,
  "metadata": {
    "colab": {
      "name": "Getting data ready.ipynb",
      "provenance": [],
      "collapsed_sections": [],
      "mount_file_id": "1H87l-GNxJ3SAvvfQxKsWbcg7M9IU1gtS",
      "authorship_tag": "ABX9TyMiRQ7M1oJyL3lfp10s5eXD",
      "include_colab_link": true
    },
    "kernelspec": {
      "name": "python3",
      "display_name": "Python 3"
    },
    "accelerator": "GPU"
  },
  "cells": [
    {
      "cell_type": "markdown",
      "metadata": {
        "id": "view-in-github",
        "colab_type": "text"
      },
      "source": [
        "<a href=\"https://colab.research.google.com/github/aminekhasteh/DeepLearningFinalReport2020/blob/master/Getting_data_ready.ipynb\" target=\"_parent\"><img src=\"https://colab.research.google.com/assets/colab-badge.svg\" alt=\"Open In Colab\"/></a>"
      ]
    },
    {
      "cell_type": "code",
      "metadata": {
        "id": "OBTij9kKK4zt",
        "colab_type": "code",
        "colab": {}
      },
      "source": [
        "cd /content/drive/My Drive/Colab Notebooks/Breast Cancer"
      ],
      "execution_count": null,
      "outputs": []
    },
    {
      "cell_type": "code",
      "metadata": {
        "id": "O4a53UGBK5pI",
        "colab_type": "code",
        "colab": {}
      },
      "source": [
        "import pandas as pd\n",
        "import os\n",
        "import pathlib\n",
        "import shutil"
      ],
      "execution_count": null,
      "outputs": []
    },
    {
      "cell_type": "code",
      "metadata": {
        "id": "T2CMTQpqK50Z",
        "colab_type": "code",
        "colab": {}
      },
      "source": [
        "csv_stage = pd.read_excel('brca-clinicalforwiki_TCIA.xlsx')"
      ],
      "execution_count": null,
      "outputs": []
    },
    {
      "cell_type": "code",
      "metadata": {
        "id": "FgCBLq4SK59Z",
        "colab_type": "code",
        "colab": {}
      },
      "source": [
        "path = '/content/drive/My Drive/Colab Notebooks/Breast Cancer/selected_TCGA-BRCA'\n",
        "m = [f for f in os.listdir(path) if os.path.isdir(os.path.join(path, f))]"
      ],
      "execution_count": null,
      "outputs": []
    },
    {
      "cell_type": "markdown",
      "metadata": {
        "id": "hzQX-i2aJRwh",
        "colab_type": "text"
      },
      "source": [
        "Putting each file in its corresponding category folder. In total there will be 7 test folders and 7 training folders. We will use them for the RESNET model in FASTAI library."
      ]
    },
    {
      "cell_type": "code",
      "metadata": {
        "id": "X9Ppc3I0LMAw",
        "colab_type": "code",
        "colab": {}
      },
      "source": [
        "for i in m:\n",
        "    parent_dir = path + '/' + i\n",
        "    m1 = [parent_dir + '/' + f for f in os.listdir(parent_dir) if os.path.isfile(os.path.join(parent_dir, f)) and (f.endswith('.png'))]\n",
        "    stage = csv_stage.loc[csv_stage['bcr_patient_barcode'] == i]['ajcc_neoplasm_disease_stage'].values[0]\n",
        "    image_path = pathlib.Path('/content/drive/My Drive/Colab Notebooks/Breast Cancer/images/{}'.format(stage))\n",
        "    if image_path.is_dir():\n",
        "        for src in m1:\n",
        "            image_name = pathlib.Path(src).name\n",
        "            dst = image_path/'{}{}'.format(i,image_name)\n",
        "            #print(image_name)\n",
        "            shutil.copy(src,dst)\n",
        "    else:\n",
        "        os.mkdir(image_path)\n",
        "        for src in m1:\n",
        "            image_name = pathlib.Path(src).name\n",
        "            dst = image_path/'{}{}'.format(i,image_name)\n",
        "            #print(image_name)\n",
        "            shutil.copy(src,dst)        "
      ],
      "execution_count": null,
      "outputs": []
    },
    {
      "cell_type": "code",
      "metadata": {
        "id": "VwohejyHo4jf",
        "colab_type": "code",
        "colab": {}
      },
      "source": [
        "import os\n",
        "import numpy as np\n",
        "import shutil\n",
        "import random"
      ],
      "execution_count": null,
      "outputs": []
    },
    {
      "cell_type": "code",
      "metadata": {
        "id": "sIVbKoGsV0bp",
        "colab_type": "code",
        "colab": {}
      },
      "source": [
        "cd /content/drive/My Drive/Colab Notebooks/Breast Cancer/images"
      ],
      "execution_count": null,
      "outputs": []
    },
    {
      "cell_type": "markdown",
      "metadata": {
        "id": "Dm1M4r4HJd5f",
        "colab_type": "text"
      },
      "source": [
        "Creating Train / Test folders. In total there will be two folders : training and test set. We will use them for the Autoencoder model."
      ]
    },
    {
      "cell_type": "code",
      "metadata": {
        "id": "OH0aNFcepIFX",
        "colab_type": "code",
        "colab": {}
      },
      "source": [
        "root_dir = '/content/drive/My Drive/Colab Notebooks/Breast Cancer/images'\n",
        "classes_dir = os.listdir()[1:8]\n",
        "\n",
        "test_ratio = 0.2\n",
        "\n",
        "for cls in classes_dir:\n",
        "\n",
        "\n",
        "    # Creating partitions of the data after shuffeling\n",
        "    src = root_dir + '/' + cls # Folder to copy images from\n",
        "\n",
        "    allFileNames = os.listdir(src)\n",
        "    np.random.shuffle(allFileNames)\n",
        "    train_FileNames = allFileNames[:int(len(allFileNames)* (1 - test_ratio))]\n",
        "    test_FileNames = allFileNames[int(len(allFileNames)* (1 - test_ratio)):]\n",
        "\n",
        "    train_FileNames = [src+'/'+ name for name in train_FileNames]\n",
        "    test_FileNames = [src+'/' + name for name in test_FileNames]\n",
        "\n",
        "    print('Total images: ', len(allFileNames))\n",
        "    print('Training: ', len(train_FileNames))\n",
        "    print('Testing: ', len(test_FileNames))\n",
        "\n",
        "    # Copy-pasting images\n",
        "    for name in train_FileNames:\n",
        "        shutil.copy(name, '/content/drive/My Drive/Colab Notebooks/Breast Cancer/Training/')\n",
        "\n",
        "    for name in test_FileNames:\n",
        "        shutil.copy(name, '/content/drive/My Drive/Colab Notebooks/Breast Cancer/Testing')"
      ],
      "execution_count": null,
      "outputs": []
    }
  ]
}