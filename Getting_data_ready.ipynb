{
  "nbformat": 4,
  "nbformat_minor": 0,
  "metadata": {
    "colab": {
      "name": "Getting data ready.ipynb",
      "provenance": [],
      "collapsed_sections": [],
      "mount_file_id": "1H87l-GNxJ3SAvvfQxKsWbcg7M9IU1gtS",
      "authorship_tag": "ABX9TyNaHLQ4FIIOBBSvtqZRdL2k",
      "include_colab_link": true
    },
    "kernelspec": {
      "name": "python3",
      "display_name": "Python 3"
    },
    "accelerator": "GPU"
  },
  "cells": [
    {
      "cell_type": "markdown",
      "metadata": {
        "id": "view-in-github",
        "colab_type": "text"
      },
      "source": [
        "<a href=\"https://colab.research.google.com/github/aminekhasteh/DeepLearningFinalReport2020/blob/master/Getting_data_ready.ipynb\" target=\"_parent\"><img src=\"https://colab.research.google.com/assets/colab-badge.svg\" alt=\"Open In Colab\"/></a>"
      ]
    },
    {
      "cell_type": "code",
      "metadata": {
        "id": "OBTij9kKK4zt",
        "colab_type": "code",
        "colab": {}
      },
      "source": [
        "cd /content/drive/My Drive/Colab Notebooks/Breast Cancer"
      ],
      "execution_count": null,
      "outputs": []
    },
    {
      "cell_type": "code",
      "metadata": {
        "id": "O4a53UGBK5pI",
        "colab_type": "code",
        "colab": {}
      },
      "source": [
        "import pandas as pd\n",
        "import os\n",
        "import pathlib\n",
        "import shutil"
      ],
      "execution_count": null,
      "outputs": []
    },
    {
      "cell_type": "code",
      "metadata": {
        "id": "T2CMTQpqK50Z",
        "colab_type": "code",
        "colab": {}
      },
      "source": [
        "csv_stage = pd.read_excel('brca-clinicalforwiki_TCIA.xlsx')"
      ],
      "execution_count": null,
      "outputs": []
    },
    {
      "cell_type": "code",
      "metadata": {
        "id": "FgCBLq4SK59Z",
        "colab_type": "code",
        "colab": {}
      },
      "source": [
        "path = '/content/drive/My Drive/Colab Notebooks/Breast Cancer/selected_TCGA-BRCA'\n",
        "m = [f for f in os.listdir(path) if os.path.isdir(os.path.join(path, f))]"
      ],
      "execution_count": null,
      "outputs": []
    },
    {
      "cell_type": "code",
      "metadata": {
        "id": "X9Ppc3I0LMAw",
        "colab_type": "code",
        "colab": {}
      },
      "source": [
        "for i in m:\n",
        "    parent_dir = path + '/' + i\n",
        "    m1 = [parent_dir + '/' + f for f in os.listdir(parent_dir) if os.path.isfile(os.path.join(parent_dir, f)) and (f.endswith('.png'))]\n",
        "    stage = csv_stage.loc[csv_stage['bcr_patient_barcode'] == i]['ajcc_neoplasm_disease_stage'].values[0]\n",
        "    image_path = pathlib.Path('/content/drive/My Drive/Colab Notebooks/Breast Cancer/images/{}'.format(stage))\n",
        "    if image_path.is_dir():\n",
        "        for src in m1:\n",
        "            image_name = pathlib.Path(src).name\n",
        "            dst = image_path/'{}{}'.format(i,image_name)\n",
        "            #print(image_name)\n",
        "            shutil.copy(src,dst)\n",
        "    else:\n",
        "        os.mkdir(image_path)\n",
        "        for src in m1:\n",
        "            image_name = pathlib.Path(src).name\n",
        "            dst = image_path/'{}{}'.format(i,image_name)\n",
        "            #print(image_name)\n",
        "            shutil.copy(src,dst)        "
      ],
      "execution_count": null,
      "outputs": []
    },
    {
      "cell_type": "code",
      "metadata": {
        "id": "VwohejyHo4jf",
        "colab_type": "code",
        "colab": {}
      },
      "source": [
        "import os\n",
        "import numpy as np\n",
        "import shutil\n",
        "import random"
      ],
      "execution_count": null,
      "outputs": []
    },
    {
      "cell_type": "code",
      "metadata": {
        "id": "sIVbKoGsV0bp",
        "colab_type": "code",
        "colab": {
          "base_uri": "https://localhost:8080/",
          "height": 34
        },
        "outputId": "32348d2b-53de-4836-b9e0-4ff2d257d524"
      },
      "source": [
        "cd /content/drive/My Drive/Colab Notebooks/Breast Cancer/images"
      ],
      "execution_count": null,
      "outputs": [
        {
          "output_type": "stream",
          "text": [
            "/content/drive/My Drive/Colab Notebooks/Breast Cancer/images\n"
          ],
          "name": "stdout"
        }
      ]
    },
    {
      "cell_type": "code",
      "metadata": {
        "id": "OH0aNFcepIFX",
        "colab_type": "code",
        "colab": {
          "base_uri": "https://localhost:8080/",
          "height": 374
        },
        "outputId": "aee09009-120b-4f8a-969e-f4ac50f1e42c"
      },
      "source": [
        "# # Creating Train / Val / Test folders (One time use)\n",
        "root_dir = '/content/drive/My Drive/Colab Notebooks/Breast Cancer/images'\n",
        "classes_dir = os.listdir()[1:8]\n",
        "\n",
        "test_ratio = 0.2\n",
        "\n",
        "for cls in classes_dir:\n",
        "    # os.makedirs('/content/drive/My Drive/Colab Notebooks/Breast Cancer/images_unsupervised' +'/train' + cls)\n",
        "    # os.makedirs('/content/drive/My Drive/Colab Notebooks/Breast Cancer/images_unsupervised' +'/test' + cls)\n",
        "\n",
        "    # Creating partitions of the data after shuffeling\n",
        "    src = root_dir + '/' + cls # Folder to copy images from\n",
        "\n",
        "    allFileNames = os.listdir(src)\n",
        "    np.random.shuffle(allFileNames)\n",
        "    #test_FileNames, train_FileNames = np.split(np.array(allFileNames),int(len(allFileNames)* (1 - test_ratio)))\n",
        "    train_FileNames = allFileNames[:int(len(allFileNames)* (1 - test_ratio))]\n",
        "    test_FileNames = allFileNames[int(len(allFileNames)* (1 - test_ratio)):]\n",
        "\n",
        "    train_FileNames = [src+'/'+ name for name in train_FileNames]\n",
        "    test_FileNames = [src+'/' + name for name in test_FileNames]\n",
        "\n",
        "    print('Total images: ', len(allFileNames))\n",
        "    print('Training: ', len(train_FileNames))\n",
        "    print('Testing: ', len(test_FileNames))\n",
        "\n",
        "    # Copy-pasting images\n",
        "    for name in train_FileNames:\n",
        "        shutil.copy(name, '/content/drive/My Drive/Colab Notebooks/Breast Cancer/Training/')\n",
        "\n",
        "    for name in test_FileNames:\n",
        "        shutil.copy(name, '/content/drive/My Drive/Colab Notebooks/Breast Cancer/Testing')"
      ],
      "execution_count": null,
      "outputs": [
        {
          "output_type": "stream",
          "text": [
            "Total images:  176\n",
            "Training:  140\n",
            "Testing:  36\n",
            "Total images:  286\n",
            "Training:  228\n",
            "Testing:  58\n",
            "Total images:  81\n",
            "Training:  64\n",
            "Testing:  17\n",
            "Total images:  63\n",
            "Training:  50\n",
            "Testing:  13\n",
            "Total images:  25\n",
            "Training:  20\n",
            "Testing:  5\n",
            "Total images:  105\n",
            "Training:  84\n",
            "Testing:  21\n",
            "Total images:  10\n",
            "Training:  8\n",
            "Testing:  2\n"
          ],
          "name": "stdout"
        }
      ]
    },
    {
      "cell_type": "code",
      "metadata": {
        "id": "UxUodz8l7kW0",
        "colab_type": "code",
        "colab": {
          "base_uri": "https://localhost:8080/",
          "height": 51
        },
        "outputId": "eed43a10-4cc9-46c4-8b74-9f1a0fb0d2cf"
      },
      "source": [
        "test_FileNames"
      ],
      "execution_count": null,
      "outputs": [
        {
          "output_type": "execute_result",
          "data": {
            "text/plain": [
              "['/content/drive/My Drive/Colab Notebooks/Breast Cancer/images/Stage II/TCGA-BH-A202000044.png',\n",
              " '/content/drive/My Drive/Colab Notebooks/Breast Cancer/images/Stage II/TCGA-BH-A202000042.png']"
            ]
          },
          "metadata": {
            "tags": []
          },
          "execution_count": 8
        }
      ]
    },
    {
      "cell_type": "code",
      "metadata": {
        "id": "MZE-gpsG7sYF",
        "colab_type": "code",
        "colab": {
          "base_uri": "https://localhost:8080/",
          "height": 153
        },
        "outputId": "4b7b1755-6439-4ee2-b168-0150d812d726"
      },
      "source": [
        "train_FileNames"
      ],
      "execution_count": null,
      "outputs": [
        {
          "output_type": "execute_result",
          "data": {
            "text/plain": [
              "['/content/drive/My Drive/Colab Notebooks/Breast Cancer/images/Stage II/TCGA-BH-A202000043.png',\n",
              " '/content/drive/My Drive/Colab Notebooks/Breast Cancer/images/Stage II/TCGA-BH-A202000045.png',\n",
              " '/content/drive/My Drive/Colab Notebooks/Breast Cancer/images/Stage II/TCGA-BH-A202000051.png',\n",
              " '/content/drive/My Drive/Colab Notebooks/Breast Cancer/images/Stage II/TCGA-BH-A202000047.png',\n",
              " '/content/drive/My Drive/Colab Notebooks/Breast Cancer/images/Stage II/TCGA-BH-A202000050.png',\n",
              " '/content/drive/My Drive/Colab Notebooks/Breast Cancer/images/Stage II/TCGA-BH-A202000049.png',\n",
              " '/content/drive/My Drive/Colab Notebooks/Breast Cancer/images/Stage II/TCGA-BH-A202000046.png',\n",
              " '/content/drive/My Drive/Colab Notebooks/Breast Cancer/images/Stage II/TCGA-BH-A202000048.png']"
            ]
          },
          "metadata": {
            "tags": []
          },
          "execution_count": 9
        }
      ]
    }
  ]
}