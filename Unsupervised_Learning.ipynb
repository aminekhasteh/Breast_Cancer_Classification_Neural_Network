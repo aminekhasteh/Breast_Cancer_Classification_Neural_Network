{
  "nbformat": 4,
  "nbformat_minor": 0,
  "metadata": {
    "colab": {
      "name": "Unsupervised Learning.ipynb",
      "provenance": [],
      "collapsed_sections": [],
      "mount_file_id": "1TmWOm2mc5TRUzzRWnHqYNjOZBuCt2Umo",
      "authorship_tag": "ABX9TyMthDuSGJl9h1nHL0+LbOs+",
      "include_colab_link": true
    },
    "kernelspec": {
      "name": "python3",
      "display_name": "Python 3"
    },
    "accelerator": "GPU"
  },
  "cells": [
    {
      "cell_type": "markdown",
      "metadata": {
        "id": "view-in-github",
        "colab_type": "text"
      },
      "source": [
        "<a href=\"https://colab.research.google.com/github/aminekhasteh/DeepLearningFinalReport2020/blob/master/Unsupervised_Learning.ipynb\" target=\"_parent\"><img src=\"https://colab.research.google.com/assets/colab-badge.svg\" alt=\"Open In Colab\"/></a>"
      ]
    },
    {
      "cell_type": "code",
      "metadata": {
        "id": "m2qdlpItUjJD",
        "colab_type": "code",
        "colab": {}
      },
      "source": [
        "import numpy as np\n",
        "import pandas as pd\n",
        "import os\n",
        "import PIL\n",
        "import PIL.Image\n",
        "import tensorflow as tf\n",
        "import numpy as np\n",
        "import keras\n",
        "from keras.datasets import mnist\n",
        "import matplotlib.pyplot as plt\n",
        "%matplotlib inline"
      ],
      "execution_count": null,
      "outputs": []
    },
    {
      "cell_type": "code",
      "metadata": {
        "id": "WGIvaBFyUnd4",
        "colab_type": "code",
        "colab": {}
      },
      "source": [
        "main_dir = '/content/drive/My Drive/Colab Notebooks/Breast Cancer'"
      ],
      "execution_count": null,
      "outputs": []
    },
    {
      "cell_type": "code",
      "metadata": {
        "id": "wKVYZjlfE-rS",
        "colab_type": "code",
        "colab": {}
      },
      "source": [
        "csv_stage = pd.read_excel('/content/drive/My Drive/Colab Notebooks/Breast Cancer/brca-clinicalforwiki_TCIA.xlsx')"
      ],
      "execution_count": null,
      "outputs": []
    },
    {
      "cell_type": "code",
      "metadata": {
        "id": "zyduI7geZ-_T",
        "colab_type": "code",
        "colab": {}
      },
      "source": [
        "# Converting the training data into tensor\n",
        "training_names = os.listdir(main_dir + '/' + 'Training')\n",
        "names=training_names[0]\n",
        "miz = PIL.Image.open(main_dir + '/' + 'Training/' + names)\n",
        "miz = miz.convert(\"L\")\n",
        "new = np.asarray(miz)\n",
        "new_normalised = new/(new.max())\n",
        "training_tensor = np.expand_dims(new_normalised, axis=0)\n",
        "Y = [csv_stage.loc[csv_stage['bcr_patient_barcode'] == training_names[0][:-10]]['ajcc_neoplasm_disease_stage'].values[0]]\n",
        "j=1\n",
        "for names in training_names[1:]:\n",
        "    Y.append(csv_stage.loc[csv_stage['bcr_patient_barcode'] == training_names[j][:-10]]['ajcc_neoplasm_disease_stage'].values[0])\n",
        "    j=j+1\n",
        "    miz = PIL.Image.open(main_dir + '/' + 'Training/' + names)\n",
        "    miz = miz.convert(\"L\")\n",
        "    new = np.asarray(miz)\n",
        "    new_normalised = (new-new.mean())/new.std()\n",
        "    new_tensor = np.expand_dims(new_normalised, axis=0)\n",
        "    #print(new_tensor.shape)\n",
        "    training_tensor = np.concatenate((training_tensor, new_tensor), axis=0)"
      ],
      "execution_count": null,
      "outputs": []
    },
    {
      "cell_type": "code",
      "metadata": {
        "id": "kT4_opD3dVrH",
        "colab_type": "code",
        "colab": {
          "base_uri": "https://localhost:8080/",
          "height": 34
        },
        "outputId": "79817725-04bf-4874-f519-8e6a2fdbfd9b"
      },
      "source": [
        "training_tensor.shape"
      ],
      "execution_count": null,
      "outputs": [
        {
          "output_type": "execute_result",
          "data": {
            "text/plain": [
              "(594, 256, 256)"
            ]
          },
          "metadata": {
            "tags": []
          },
          "execution_count": 5
        }
      ]
    },
    {
      "cell_type": "code",
      "metadata": {
        "id": "V1E7LO_4dUkG",
        "colab_type": "code",
        "colab": {}
      },
      "source": [
        "# Converting the testing data into tensor\n",
        "testing_names = os.listdir(main_dir + '/' + 'Testing')\n",
        "names=testing_names[0]\n",
        "miz1 = PIL.Image.open(main_dir + '/' + 'Testing/' + names)\n",
        "miz1 = miz.convert(\"L\")\n",
        "new1 = np.asarray(miz1)\n",
        "new_normalised1 = new/(new1.max())\n",
        "testing_tensor = np.expand_dims(new_normalised1, axis=0)\n",
        "Y_test = [csv_stage.loc[csv_stage['bcr_patient_barcode'] == testing_names[0][:-10]]['ajcc_neoplasm_disease_stage'].values[0]]\n",
        "k = 1\n",
        "for names in testing_names[1:]:\n",
        "    Y_test.append(csv_stage.loc[csv_stage['bcr_patient_barcode'] == testing_names[k][:-10]]['ajcc_neoplasm_disease_stage'].values[0])\n",
        "    k=k+1\n",
        "    miz = PIL.Image.open(main_dir + '/' + 'Testing/' + names)\n",
        "    miz = miz.convert(\"L\")\n",
        "    new = np.asarray(miz)\n",
        "    new_normalised = (new-new.mean())/new.std()\n",
        "    new_tensor = np.expand_dims(new_normalised, axis=0)\n",
        "    #print(new_tensor.shape)\n",
        "    testing_tensor = np.concatenate((testing_tensor, new_tensor), axis=0)"
      ],
      "execution_count": null,
      "outputs": []
    },
    {
      "cell_type": "code",
      "metadata": {
        "id": "_HiKtuESdQML",
        "colab_type": "code",
        "colab": {
          "base_uri": "https://localhost:8080/",
          "height": 34
        },
        "outputId": "1a4951fe-6cb7-46d0-b298-e940d6af5d26"
      },
      "source": [
        "testing_tensor.shape"
      ],
      "execution_count": null,
      "outputs": [
        {
          "output_type": "execute_result",
          "data": {
            "text/plain": [
              "(152, 256, 256)"
            ]
          },
          "metadata": {
            "tags": []
          },
          "execution_count": 7
        }
      ]
    },
    {
      "cell_type": "code",
      "metadata": {
        "id": "oMez0I6dlAn3",
        "colab_type": "code",
        "colab": {}
      },
      "source": [
        "# Expanding the dataset one more time\n",
        "training_tensor = np.expand_dims(training_tensor, axis=3)\n",
        "testing_tensor = np.expand_dims(testing_tensor, axis=3)"
      ],
      "execution_count": null,
      "outputs": []
    },
    {
      "cell_type": "code",
      "metadata": {
        "id": "9ymTc2lQhkna",
        "colab_type": "code",
        "colab": {
          "base_uri": "https://localhost:8080/",
          "height": 123
        },
        "outputId": "4ff770d1-a23c-4097-e700-7bd26a9d09a8"
      },
      "source": [
        "# About Dataset:\n",
        "print('Training shape:', training_tensor.shape)\n",
        "print(training_tensor.shape[0], 'sample,',training_tensor.shape[1] ,'x',training_tensor.shape[2] ,'size grayscale image.\\n')\n",
        "print('Test shape:', testing_tensor.shape)\n",
        "print(testing_tensor.shape[0], 'sample,',testing_tensor.shape[1] ,'x',testing_tensor.shape[2] ,'size grayscale image.\\n')"
      ],
      "execution_count": null,
      "outputs": [
        {
          "output_type": "stream",
          "text": [
            "Training shape: (594, 256, 256, 1)\n",
            "594 sample, 256 x 256 size grayscale image.\n",
            "\n",
            "Test shape: (152, 256, 256, 1)\n",
            "152 sample, 256 x 256 size grayscale image.\n",
            "\n"
          ],
          "name": "stdout"
        }
      ]
    },
    {
      "cell_type": "code",
      "metadata": {
        "id": "xd_LlWGVf8JX",
        "colab_type": "code",
        "colab": {
          "base_uri": "https://localhost:8080/",
          "height": 136
        },
        "outputId": "ff853578-0198-4b2c-801a-9c2f81fb8eb3"
      },
      "source": [
        "print('Examples:')\n",
        "n = 10\n",
        "plt.figure(figsize=(20, 4))\n",
        "for i in range(1, n):\n",
        "    # display original\n",
        "    ax = plt.subplot(2, n, i)\n",
        "    plt.imshow(training_tensor[i].reshape(256, 256))\n",
        "    plt.gray()\n",
        "    ax.get_xaxis().set_visible(False)\n",
        "    ax.get_yaxis().set_visible(False)"
      ],
      "execution_count": null,
      "outputs": [
        {
          "output_type": "stream",
          "text": [
            "Examples:\n"
          ],
          "name": "stdout"
        },
        {
          "output_type": "display_data",
          "data": {
            "image/png": "[encoded data removed]",
            "text/plain": [
              "<Figure size 1440x288 with 9 Axes>"
            ]
          },
          "metadata": {
            "tags": [],
            "needs_background": "light"
          }
        }
      ]
    },
    {
      "cell_type": "code",
      "metadata": {
        "id": "BgFmcAEqo7TO",
        "colab_type": "code",
        "colab": {}
      },
      "source": [
        "# Describe the number of classes:\n",
        "num_class = 7\n",
        "\n",
        "from keras.layers import Input, Conv2D, MaxPooling2D, UpSampling2D, Conv2DTranspose, Dense, Activation, Lambda, Reshape, Flatten\n",
        "from keras.models import Model\n",
        "from keras import backend as K\n",
        "\n",
        "# Custom classifier function:\n",
        "def classifier_func(x):\n",
        "    return x+x*K.one_hot(K.argmax(x, axis=1), num_classes=num_class)"
      ],
      "execution_count": null,
      "outputs": []
    },
    {
      "cell_type": "code",
      "metadata": {
        "id": "qMqeUdHqpEMy",
        "colab_type": "code",
        "colab": {
          "base_uri": "https://localhost:8080/",
          "height": 1000
        },
        "outputId": "02e619a4-41f2-42cc-9b0c-e37e65c1eabc"
      },
      "source": [
        "# Deep Learning Model:\n",
        "\n",
        "inputs = Input(shape=(256, 256, 1))\n",
        "#Encoder:\n",
        "conv_1 = Conv2D(32, (3,3), strides=(1,1))(inputs)\n",
        "act_1 = Activation('relu')(conv_1)\n",
        "maxpool_1 = MaxPooling2D(pool_size=(2, 2), strides=(2, 2))(act_1)\n",
        "\n",
        "conv_2 = Conv2D(64, (3,3), strides=(1,1), padding = 'same')(maxpool_1)\n",
        "act_2 = Activation('relu')(conv_2)\n",
        "maxpool_2 = MaxPooling2D(pool_size=(2, 2), strides=(2, 2))(act_2)\n",
        "# Output Shape: 6x6x64\n",
        "    \n",
        "flat_1 = Flatten()(maxpool_2)\n",
        "\n",
        "fc_1 = Dense(256)(flat_1)\n",
        "act_3 = Activation('relu')(fc_1)\n",
        "\n",
        "fc_2 = Dense(128)(act_3)\n",
        "act_4 = Activation('relu')(fc_2)\n",
        "\n",
        "fc_3 = Dense(num_class)(act_4)\n",
        "\n",
        "act_class = Lambda(classifier_func, output_shape=(num_class,))(fc_3)\n",
        "# Output Shape: 7\n",
        "\n",
        "#Decoder:\n",
        "fc_4 = Dense(256)(act_class)\n",
        "act_5 = Activation('relu')(fc_4)\n",
        "\n",
        "fc_5 = Dense(254016)(act_5)\n",
        "act_6 = Activation('relu')(fc_5)\n",
        "reshape_1 = Reshape((63,63,64))(act_6)\n",
        "\n",
        "upsample_1 = UpSampling2D((2, 2))(reshape_1)\n",
        "deconv_1 = Conv2DTranspose(64, (3, 3), strides=(1, 1))(upsample_1)\n",
        "act_7 = Activation('relu')(deconv_1)\n",
        "\n",
        "upsample_2 = UpSampling2D((2, 2))(act_7)\n",
        "deconv_2 = Conv2DTranspose(32, (3, 3), strides=(1, 1))(upsample_2)\n",
        "act_8 = Activation('relu')(deconv_2)\n",
        "\n",
        "conv_3 = Conv2D(1, (3, 3), strides=(1, 1))(act_8)\n",
        "act_9 = Activation('sigmoid')(conv_3)\n",
        "# Output Shape: 28x28x1\n",
        "\n",
        "autoencoder = Model(inputs, act_9)\n",
        "opt = keras.optimizers.Adadelta(learning_rate=0.007,rho=0.999)\n",
        "autoencoder.compile(optimizer=opt, loss='binary_crossentropy')\n",
        "\n",
        "autoencoder.summary()"
      ],
      "execution_count": null,
      "outputs": [
        {
          "output_type": "stream",
          "text": [
            "Model: \"functional_1\"\n",
            "_________________________________________________________________\n",
            "Layer (type)                 Output Shape              Param #   \n",
            "=================================================================\n",
            "input_1 (InputLayer)         [(None, 256, 256, 1)]     0         \n",
            "_________________________________________________________________\n",
            "conv2d (Conv2D)              (None, 254, 254, 32)      320       \n",
            "_________________________________________________________________\n",
            "activation (Activation)      (None, 254, 254, 32)      0         \n",
            "_________________________________________________________________\n",
            "max_pooling2d (MaxPooling2D) (None, 127, 127, 32)      0         \n",
            "_________________________________________________________________\n",
            "conv2d_1 (Conv2D)            (None, 127, 127, 64)      18496     \n",
            "_________________________________________________________________\n",
            "activation_1 (Activation)    (None, 127, 127, 64)      0         \n",
            "_________________________________________________________________\n",
            "max_pooling2d_1 (MaxPooling2 (None, 63, 63, 64)        0         \n",
            "_________________________________________________________________\n",
            "flatten (Flatten)            (None, 254016)            0         \n",
            "_________________________________________________________________\n",
            "dense (Dense)                (None, 256)               65028352  \n",
            "_________________________________________________________________\n",
            "activation_2 (Activation)    (None, 256)               0         \n",
            "_________________________________________________________________\n",
            "dense_1 (Dense)              (None, 128)               32896     \n",
            "_________________________________________________________________\n",
            "activation_3 (Activation)    (None, 128)               0         \n",
            "_________________________________________________________________\n",
            "dense_2 (Dense)              (None, 7)                 903       \n",
            "_________________________________________________________________\n",
            "lambda (Lambda)              (None, 7)                 0         \n",
            "_________________________________________________________________\n",
            "dense_3 (Dense)              (None, 256)               2048      \n",
            "_________________________________________________________________\n",
            "activation_4 (Activation)    (None, 256)               0         \n",
            "_________________________________________________________________\n",
            "dense_4 (Dense)              (None, 254016)            65282112  \n",
            "_________________________________________________________________\n",
            "activation_5 (Activation)    (None, 254016)            0         \n",
            "_________________________________________________________________\n",
            "reshape (Reshape)            (None, 63, 63, 64)        0         \n",
            "_________________________________________________________________\n",
            "up_sampling2d (UpSampling2D) (None, 126, 126, 64)      0         \n",
            "_________________________________________________________________\n",
            "conv2d_transpose (Conv2DTran (None, 128, 128, 64)      36928     \n",
            "_________________________________________________________________\n",
            "activation_6 (Activation)    (None, 128, 128, 64)      0         \n",
            "_________________________________________________________________\n",
            "up_sampling2d_1 (UpSampling2 (None, 256, 256, 64)      0         \n",
            "_________________________________________________________________\n",
            "conv2d_transpose_1 (Conv2DTr (None, 258, 258, 32)      18464     \n",
            "_________________________________________________________________\n",
            "activation_7 (Activation)    (None, 258, 258, 32)      0         \n",
            "_________________________________________________________________\n",
            "conv2d_2 (Conv2D)            (None, 256, 256, 1)       289       \n",
            "_________________________________________________________________\n",
            "activation_8 (Activation)    (None, 256, 256, 1)       0         \n",
            "=================================================================\n",
            "Total params: 130,420,808\n",
            "Trainable params: 130,420,808\n",
            "Non-trainable params: 0\n",
            "_________________________________________________________________\n"
          ],
          "name": "stdout"
        }
      ]
    },
    {
      "cell_type": "code",
      "metadata": {
        "id": "tQrCpgCnq_vB",
        "colab_type": "code",
        "colab": {}
      },
      "source": [
        "epochs = 250\n",
        "batch_size = 128\n",
        "checkpoints = []"
      ],
      "execution_count": null,
      "outputs": []
    },
    {
      "cell_type": "code",
      "metadata": {
        "id": "zg26cbRP8yc2",
        "colab_type": "code",
        "colab": {}
      },
      "source": [
        "%reload_ext tensorboard"
      ],
      "execution_count": null,
      "outputs": []
    },
    {
      "cell_type": "code",
      "metadata": {
        "id": "1j8xs-6r82id",
        "colab_type": "code",
        "colab": {}
      },
      "source": [
        "! mkdir /tmp/autoencoder\n"
      ],
      "execution_count": null,
      "outputs": []
    },
    {
      "cell_type": "code",
      "metadata": {
        "id": "Z7icKkdfq2Kg",
        "colab_type": "code",
        "colab": {
          "base_uri": "https://localhost:8080/",
          "height": 1000
        },
        "outputId": "423a5495-3986-45f0-e4b2-ae026b04f196"
      },
      "source": [
        "# Training Model:\n",
        "from keras.callbacks import TensorBoard\n",
        "! rm -r /tmp/autoencoder\n",
        "autoencoder.fit(training_tensor, training_tensor, batch_size=batch_size, \n",
        "                epochs=epochs, validation_data=(testing_tensor, testing_tensor), \n",
        "                shuffle=True,\n",
        "                callbacks=checkpoints)"
      ],
      "execution_count": null,
      "outputs": [
        {
          "output_type": "stream",
          "text": [
            "Epoch 1/250\n",
            "2/5 [===========>..................] - ETA: 1s - loss: 0.6930WARNING:tensorflow:Callbacks method `on_train_batch_end` is slow compared to the batch time (batch time: 0.3075s vs `on_train_batch_end` time: 0.6167s). Check your callbacks.\n",
            "5/5 [==============================] - 7s 1s/step - loss: 0.6924 - val_loss: 0.6909\n",
            "Epoch 2/250\n",
            "5/5 [==============================] - 4s 861ms/step - loss: 0.6900 - val_loss: 0.6883\n",
            "Epoch 3/250\n",
            "5/5 [==============================] - 4s 869ms/step - loss: 0.6873 - val_loss: 0.6855\n",
            "Epoch 4/250\n",
            "5/5 [==============================] - 4s 876ms/step - loss: 0.6844 - val_loss: 0.6826\n",
            "Epoch 5/250\n",
            "5/5 [==============================] - 4s 884ms/step - loss: 0.6815 - val_loss: 0.6797\n",
            "Epoch 6/250\n",
            "5/5 [==============================] - 4s 897ms/step - loss: 0.6785 - val_loss: 0.6767\n",
            "Epoch 7/250\n",
            "5/5 [==============================] - 5s 906ms/step - loss: 0.6755 - val_loss: 0.6735\n",
            "Epoch 8/250\n",
            "5/5 [==============================] - 5s 921ms/step - loss: 0.6723 - val_loss: 0.6703\n",
            "Epoch 9/250\n",
            "5/5 [==============================] - 5s 930ms/step - loss: 0.6691 - val_loss: 0.6670\n",
            "Epoch 10/250\n",
            "5/5 [==============================] - 5s 933ms/step - loss: 0.6656 - val_loss: 0.6634\n",
            "Epoch 11/250\n",
            "5/5 [==============================] - 5s 926ms/step - loss: 0.6620 - val_loss: 0.6597\n",
            "Epoch 12/250\n",
            "5/5 [==============================] - 5s 912ms/step - loss: 0.6582 - val_loss: 0.6558\n",
            "Epoch 13/250\n",
            "5/5 [==============================] - 4s 898ms/step - loss: 0.6542 - val_loss: 0.6517\n",
            "Epoch 14/250\n",
            "5/5 [==============================] - 4s 894ms/step - loss: 0.6500 - val_loss: 0.6472\n",
            "Epoch 15/250\n",
            "5/5 [==============================] - 4s 893ms/step - loss: 0.6454 - val_loss: 0.6425\n",
            "Epoch 16/250\n",
            "5/5 [==============================] - 4s 885ms/step - loss: 0.6405 - val_loss: 0.6374\n",
            "Epoch 17/250\n",
            "5/5 [==============================] - 4s 882ms/step - loss: 0.6353 - val_loss: 0.6319\n",
            "Epoch 18/250\n",
            "5/5 [==============================] - 4s 877ms/step - loss: 0.6296 - val_loss: 0.6259\n",
            "Epoch 19/250\n",
            "5/5 [==============================] - 4s 881ms/step - loss: 0.6235 - val_loss: 0.6195\n",
            "Epoch 20/250\n",
            "5/5 [==============================] - 4s 881ms/step - loss: 0.6168 - val_loss: 0.6125\n",
            "Epoch 21/250\n",
            "5/5 [==============================] - 4s 882ms/step - loss: 0.6096 - val_loss: 0.6048\n",
            "Epoch 22/250\n",
            "5/5 [==============================] - 4s 886ms/step - loss: 0.6017 - val_loss: 0.5965\n",
            "Epoch 23/250\n",
            "5/5 [==============================] - 4s 886ms/step - loss: 0.5930 - val_loss: 0.5873\n",
            "Epoch 24/250\n",
            "5/5 [==============================] - 4s 890ms/step - loss: 0.5835 - val_loss: 0.5773\n",
            "Epoch 25/250\n",
            "5/5 [==============================] - 5s 903ms/step - loss: 0.5731 - val_loss: 0.5663\n",
            "Epoch 26/250\n",
            "5/5 [==============================] - 4s 900ms/step - loss: 0.5617 - val_loss: 0.5542\n",
            "Epoch 27/250\n",
            "5/5 [==============================] - 5s 906ms/step - loss: 0.5492 - val_loss: 0.5410\n",
            "Epoch 28/250\n",
            "5/5 [==============================] - 5s 904ms/step - loss: 0.5355 - val_loss: 0.5265\n",
            "Epoch 29/250\n",
            "5/5 [==============================] - 5s 905ms/step - loss: 0.5205 - val_loss: 0.5107\n",
            "Epoch 30/250\n",
            "5/5 [==============================] - 5s 900ms/step - loss: 0.5041 - val_loss: 0.4934\n",
            "Epoch 31/250\n",
            "5/5 [==============================] - 4s 899ms/step - loss: 0.4863 - val_loss: 0.4747\n",
            "Epoch 32/250\n",
            "5/5 [==============================] - 5s 902ms/step - loss: 0.4670 - val_loss: 0.4545\n",
            "Epoch 33/250\n",
            "5/5 [==============================] - 5s 901ms/step - loss: 0.4462 - val_loss: 0.4329\n",
            "Epoch 34/250\n",
            "5/5 [==============================] - 4s 900ms/step - loss: 0.4240 - val_loss: 0.4099\n",
            "Epoch 35/250\n",
            "5/5 [==============================] - 4s 899ms/step - loss: 0.4005 - val_loss: 0.3857\n",
            "Epoch 36/250\n",
            "5/5 [==============================] - 4s 894ms/step - loss: 0.3760 - val_loss: 0.3607\n",
            "Epoch 37/250\n",
            "5/5 [==============================] - 4s 899ms/step - loss: 0.3506 - val_loss: 0.3349\n",
            "Epoch 38/250\n",
            "5/5 [==============================] - 5s 901ms/step - loss: 0.3247 - val_loss: 0.3090\n",
            "Epoch 39/250\n",
            "5/5 [==============================] - 4s 900ms/step - loss: 0.2986 - val_loss: 0.2831\n",
            "Epoch 40/250\n",
            "5/5 [==============================] - 5s 900ms/step - loss: 0.2728 - val_loss: 0.2577\n",
            "Epoch 41/250\n",
            "5/5 [==============================] - 4s 900ms/step - loss: 0.2476 - val_loss: 0.2330\n",
            "Epoch 42/250\n",
            "5/5 [==============================] - 5s 903ms/step - loss: 0.2232 - val_loss: 0.2092\n",
            "Epoch 43/250\n",
            "5/5 [==============================] - 5s 904ms/step - loss: 0.1998 - val_loss: 0.1865\n",
            "Epoch 44/250\n",
            "5/5 [==============================] - 5s 905ms/step - loss: 0.1773 - val_loss: 0.1645\n",
            "Epoch 45/250\n",
            "5/5 [==============================] - 5s 907ms/step - loss: 0.1556 - val_loss: 0.1431\n",
            "Epoch 46/250\n",
            "5/5 [==============================] - 5s 913ms/step - loss: 0.1342 - val_loss: 0.1215\n",
            "Epoch 47/250\n",
            "5/5 [==============================] - 5s 904ms/step - loss: 0.1123 - val_loss: 0.0986\n",
            "Epoch 48/250\n",
            "5/5 [==============================] - 5s 908ms/step - loss: 0.0885 - val_loss: 0.0724\n",
            "Epoch 49/250\n",
            "5/5 [==============================] - 5s 911ms/step - loss: 0.0606 - val_loss: 0.0398\n",
            "Epoch 50/250\n",
            "5/5 [==============================] - 5s 911ms/step - loss: 0.0242 - val_loss: -0.0064\n",
            "Epoch 51/250\n",
            "5/5 [==============================] - 5s 911ms/step - loss: -0.0296 - val_loss: -0.0801\n",
            "Epoch 52/250\n",
            "5/5 [==============================] - 5s 909ms/step - loss: -0.1204 - val_loss: -0.2178\n",
            "Epoch 53/250\n",
            "5/5 [==============================] - 5s 911ms/step - loss: -0.3050 - val_loss: -0.5416\n",
            "Epoch 54/250\n",
            "5/5 [==============================] - 5s 912ms/step - loss: -0.8231 - val_loss: -1.7825\n",
            "Epoch 55/250\n",
            "5/5 [==============================] - 5s 912ms/step - loss: -4.2378 - val_loss: -20.4106\n",
            "Epoch 56/250\n",
            "5/5 [==============================] - 5s 908ms/step - loss: -458.6512 - val_loss: -12868.3926\n",
            "Epoch 57/250\n",
            "5/5 [==============================] - 4s 893ms/step - loss: -20327904.0000 - val_loss: -2296730368.0000\n",
            "Epoch 58/250\n",
            "5/5 [==============================] - 4s 883ms/step - loss: -84449752514560.0000 - val_loss: -16854820690329600.0000\n",
            "Epoch 59/250\n",
            "5/5 [==============================] - 4s 887ms/step - loss: -1978704487768756584448.0000 - val_loss: -184944984427183374073856.0000\n",
            "Epoch 60/250\n",
            "5/5 [==============================] - 4s 881ms/step - loss: -1432540998271026331648000.0000 - val_loss: -6235039272705737382428672.0000\n",
            "Epoch 61/250\n",
            "5/5 [==============================] - 4s 875ms/step - loss: -14845909654562327362535424.0000 - val_loss: -42784068485732700639985664.0000\n",
            "Epoch 62/250\n",
            "5/5 [==============================] - 4s 867ms/step - loss: -79659248239658647142006784.0000 - val_loss: -176613149151903315853836288.0000\n",
            "Epoch 63/250\n",
            "5/5 [==============================] - 4s 871ms/step - loss: -253939004170074183828504576.0000 - val_loss: -425533144747658531169107968.0000\n",
            "Epoch 64/250\n",
            "5/5 [==============================] - 4s 874ms/step - loss: -520525206757548078502248448.0000 - val_loss: -736868399893084815340077056.0000\n",
            "Epoch 65/250\n",
            "5/5 [==============================] - 4s 878ms/step - loss: -831693371295154701554679808.0000 - val_loss: -1067224277320353755277819904.0000\n",
            "Epoch 66/250\n",
            "5/5 [==============================] - 4s 884ms/step - loss: -1154970126216696863964266496.0000 - val_loss: -1412324046989928381116579840.0000\n",
            "Epoch 67/250\n",
            "5/5 [==============================] - 4s 883ms/step - loss: -1487859184327143894368124928.0000 - val_loss: -1756272887403256120610914304.0000\n",
            "Epoch 68/250\n",
            "5/5 [==============================] - 4s 891ms/step - loss: -1822527098862106884253417472.0000 - val_loss: -2108987177878552870003933184.0000\n",
            "Epoch 69/250\n",
            "5/5 [==============================] - 4s 885ms/step - loss: -2163673657489709258342662144.0000 - val_loss: -2462634873603979322708721664.0000\n",
            "Epoch 70/250\n",
            "5/5 [==============================] - ETA: 0s - loss: -2508892076617165984017416192.0000"
          ],
          "name": "stdout"
        }
      ]
    },
    {
      "cell_type": "code",
      "metadata": {
        "id": "VIkjQ1jY84Od",
        "colab_type": "code",
        "colab": {}
      },
      "source": [
        "# tensorboard --logdir=/tmp/autoencoder"
      ],
      "execution_count": null,
      "outputs": []
    },
    {
      "cell_type": "code",
      "metadata": {
        "id": "_v5KcJnasSRt",
        "colab_type": "code",
        "colab": {}
      },
      "source": [
        "decoded_imgs = autoencoder.predict(testing_tensor)"
      ],
      "execution_count": null,
      "outputs": []
    },
    {
      "cell_type": "code",
      "metadata": {
        "id": "AhlwEP2ysaSy",
        "colab_type": "code",
        "colab": {}
      },
      "source": [
        "n = 10\n",
        "plt.figure(figsize=(20, 4))\n",
        "for i in range(1, n):\n",
        "    # display original\n",
        "    ax = plt.subplot(2, n, i)\n",
        "    plt.imshow(testing_tensor[i].reshape(256, 256))\n",
        "    plt.gray()\n",
        "    ax.get_xaxis().set_visible(False)\n",
        "    ax.get_yaxis().set_visible(False)\n",
        "\n",
        "    # display reconstruction\n",
        "    ax = plt.subplot(2, n, i + n)\n",
        "    plt.imshow(decoded_imgs[i].reshape(256, 256))\n",
        "    plt.gray()\n",
        "    ax.get_xaxis().set_visible(False)\n",
        "    ax.get_yaxis().set_visible(False)"
      ],
      "execution_count": null,
      "outputs": []
    },
    {
      "cell_type": "code",
      "metadata": {
        "id": "ED6jz9KhswOC",
        "colab_type": "code",
        "colab": {}
      },
      "source": [
        "# Split autoencoder:\n",
        "encoder = Model(inputs, act_class)\n",
        "encoder.summary()"
      ],
      "execution_count": null,
      "outputs": []
    },
    {
      "cell_type": "code",
      "metadata": {
        "id": "nSw0LqI6s4Eu",
        "colab_type": "code",
        "colab": {}
      },
      "source": [
        "# Results on training\n",
        "\n",
        "encode = encoder.predict(training_tensor)\n",
        "\n",
        "class_dict = np.zeros((num_class, num_class))\n",
        "for i, sample in enumerate(Y):\n",
        "    if sample=='Stage I':\n",
        "        class_dict[np.argmax(encode[i], axis=0)][1] += 1\n",
        "    if sample=='Stage IA':\n",
        "        class_dict[np.argmax(encode[i], axis=0)][2] += 1\n",
        "    if sample=='Stage II':\n",
        "        class_dict[np.argmax(encode[i], axis=0)][3] += 1\n",
        "    if sample=='Stage IIA':\n",
        "        class_dict[np.argmax(encode[i], axis=0)][4] += 1\n",
        "    if sample=='Stage IIB':\n",
        "        class_dict[np.argmax(encode[i], axis=0)][5] += 1\n",
        "    if sample=='Stage IIIA':\n",
        "        class_dict[np.argmax(encode[i], axis=0)][6] += 1\n",
        "    if sample=='Stage IIIB':\n",
        "        class_dict[np.argmax(encode[i], axis=0)][7] += 1\n",
        "\n",
        "print(class_dict)\n",
        "    \n",
        "neuron_class = np.zeros((num_class))\n",
        "for i in range(num_class):\n",
        "    neuron_class[i] = np.argmax(class_dict[i], axis=0)\n",
        "\n",
        "print(neuron_class)"
      ],
      "execution_count": null,
      "outputs": []
    },
    {
      "cell_type": "code",
      "metadata": {
        "id": "Aol8tk9rtE70",
        "colab_type": "code",
        "colab": {}
      },
      "source": [
        "# Results on testing\n",
        "\n",
        "encode = encoder.predict(testing_tensor)\n",
        "\n",
        "predicted = np.argmax(encode, axis=1)\n",
        "for i, sample in enumerate(predicted):\n",
        "    predicted[i] = neuron_class[predicted[i]]\n",
        "\n",
        "comparison = []\n",
        "for i in range(len(Y_test)):\n",
        "    if predicted[i]==1:\n",
        "        pred = 'Stage I'\n",
        "    if predicted[i]==2:\n",
        "        pred = 'Stage IA'\n",
        "    if predicted[i]==3:\n",
        "        pred = 'Stage II'\n",
        "    if predicted[i]==4:\n",
        "        pred = 'Stage IIA'\n",
        "    if predicted[i]==5:\n",
        "        pred = 'Stage IIB'\n",
        "    if predicted[i]==6:\n",
        "        pred = 'Stage IIIA'\n",
        "    if predicted[i]==7:\n",
        "        pred = 'Stage IIIB'\n",
        "        \n",
        "    if Y_test[i]==pred:\n",
        "        comparison.append(1)\n",
        "    else:\n",
        "        comparison.append(0)\n",
        "\n",
        "loss = 1 - np.sum(comparison)/len(Y_test)\n",
        "\n",
        "print('Loss:', loss)\n",
        "print('Examples:')\n",
        "for i in range(10):\n",
        "    plt.imshow(testing_tensor[i].reshape(256,256), cmap='gray')\n",
        "    plt.axis('off')\n",
        "    plt.show()\n",
        "    neuron = np.argmax(encode[i], axis=0)\n",
        "    print('Class:', Y_test[i], '- Model\\'s Output Class:', neuron_class[neuron])"
      ],
      "execution_count": null,
      "outputs": []
    }
  ]
}